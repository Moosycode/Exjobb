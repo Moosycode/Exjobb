{
 "cells": [
  {
   "cell_type": "code",
   "execution_count": 2,
   "metadata": {},
   "outputs": [],
   "source": [
    "\"\"\"\n",
    "Create dictionary from potku with \n",
    "\n",
    "Nils Wikström\n",
    "2024-02-16\n",
    "\n",
    "\"\"\"\n",
    "\n",
    "import os\n",
    "import re\n",
    "#------------------------------------------------------------------------------\n",
    "import numpy as np                       ## for handling of data\n",
    "import matplotlib.pyplot as plt\n",
    "import matplotlib as mpl\n",
    "from scipy.optimize import curve_fit\n",
    "import json\n",
    "#------------------------------------------------------------------------------\n",
    "plt.rcParams['mathtext.default'] = 'regular'\n",
    "plt.rcParams['font.family'] = 'monospace'\n",
    "mpl.rcParams['axes.prop_cycle'] = mpl.cycler(color=['k','r','g','b']) \n",
    "plt.rcParams['figure.autolayout'] = True\n",
    "#------------------------------------------------------------------------------\n",
    "#import ImportData as ID\n",
    "#------------------------------------------------------------------------------\n",
    "\n",
    "#------------------------------------------------------------------------------\n",
    "# --- element dictionary -----------------------------------\n",
    "#------------------------------------------------------------------------------\n",
    "element = {\n",
    "\t'N':{'A':14,'Z':7},\n",
    "\t'Si':{'A':28,'Z':14},\n",
    "\t'Cl':{'A':35,'Z':17},\n",
    "\t'Ti':{'A':48,'Z':22},\n",
    "\t'Cu':{'A':63,'Z':29},\n",
    "\t'Br':{'A':79,'Z':35},\n",
    "\t'Mo':{'A':96,'Z':42},\n",
    "\t'Ag':{'A':107,'Z':47},\n",
    "\t'I':{'A':127,'Z':53},\n",
    "\t'Ta':{'A':181,'Z':73},\n",
    "\t'Au':{'A':197,'Z':79}\n",
    "\t}\n",
    "#------------------------------------------------------------------------------"
   ]
  },
  {
   "cell_type": "code",
   "execution_count": 3,
   "metadata": {},
   "outputs": [],
   "source": [
    "def  read_columns(root):\n",
    "    columns =  []\n",
    "    with open(root,'r') as depthprofiles:\n",
    "        lines = depthprofiles.readlines()\n",
    "        for line in lines:\n",
    "            column_data = line.split()\n",
    "            for i,  column_data in enumerate(column_data):\n",
    "                if len(columns) <= i:\n",
    "                    columns.append([])\n",
    "                columns[i].append(float(column_data.strip()))\n",
    "    return columns"
   ]
  },
  {
   "cell_type": "code",
   "execution_count": 4,
   "metadata": {},
   "outputs": [],
   "source": [
    "folder_path = '/Users/niwi9751/potku/requests/'\n",
    "def Initialize_Profile(folder_path):\n",
    "    if '.potku' in folder_path:                     #Check if potku is in the path name\n",
    "        print('Folder is compatible, proceeding')   \n",
    "        files = os.listdir(folder_path)             #Make list of folders in the request\n",
    "    else:                                           \n",
    "        print('Searching directory for potku files') #Search for potku files\n",
    "        possible_files = [file for file in os.listdir(folder_path) if '.potku' in file] #make list of possible files\n",
    "        \n",
    "    if len(possible_files) == 0:                #if none are found, tell you\n",
    "        print('Could not find .potku file, please try again')\n",
    "    elif len(possible_files) == 1:              #if only one, make list of the files\n",
    "        files = os.listdir(folder_path + possible_files[0])\n",
    "        print(files)\n",
    "    else:\n",
    "        print('Found compatible files: ')       \n",
    "        [print(str(i + 1) + '.' + possible_files[i]) for i in range(len(possible_files))] #print list of possible files\n",
    "        choise = possible_files[int(input('Chose the file you want (1 - ' + str(len(possible_files)) + ')'))-1]\n",
    "        folder_path = folder_path + choise #chose one of them\n",
    "    \n",
    "    dict = {'Beam':{}, 'Samples':{}, 'Settings':{}} #Create dictionary\n",
    "    beamdata = json.load(open(folder_path +'/Default/Default.measurement')) #Load info from folders\n",
    "    beamprofile = json.load(open(folder_path+'/Default/Default.profile'))\n",
    "    dict['Beam']['Ion'] = re.sub(r'\\d+', '', beamdata['beam']['ion']) #Assign data\n",
    "    dict['Beam']['Mass'] = re.sub(r'[a-zA-z]',  '' , beamdata['beam']['ion'])\n",
    "    dict['Beam']['Energy'] = beamdata['beam']['energy']\n",
    "    dict['Settings']['Num_step'] = beamprofile['depth_profiles']['number_of_depth_steps']\n",
    "    dict['Settings']['Stop_step'] = beamprofile['depth_profiles']['depth_step_for_stopping']\n",
    "    dict['Settings']['Out_step'] = beamprofile['depth_profiles']['depth_step_for_output']\n",
    "    \n",
    "    for root, dirs, files in os.walk(folder_path):#Check all files in folder path\n",
    "        for file in files:\n",
    "            if file.endswith('.info'): #If infofile, we are in the right directory, keep looking here!!!\n",
    "                currentsample = file.removesuffix('.info')\n",
    "                dict['Samples'][currentsample] = {}  #Make it a sample\n",
    "            if file.startswith('depth.') and 'total' not  in file: #Find the corresponding depht profiles, and save them.\n",
    "                newroot = root.replace(os.path.sep,  '/') + '/' + file\n",
    "                depthprofile = file.removeprefix('depth.')\n",
    "                columns =  read_columns(newroot)\n",
    "                dict['Samples'][currentsample][depthprofile] = {'x': columns[0], 'C': columns[3],'NoNormC': columns[4],'N': columns[6]}\n",
    "                \n",
    "    return dict\n"
   ]
  },
  {
   "cell_type": "code",
   "execution_count": 5,
   "metadata": {},
   "outputs": [],
   "source": [
    "def plot_profiles(data):\n",
    "    i = 0\n",
    "    for sample in data['Samples']: #Iterate over samples\n",
    "        if len(data['Samples'][sample]) > 0: #Check that it has data\n",
    "            plt.figure(i)\n",
    "            plt.title(sample)\n",
    "            plt.xlim([-500,   3000])\n",
    "            plt.ylim([0.0, 1.2])\n",
    "            plt.xlabel('depth [10$^{15}$ atoms/cm$^2$]')\n",
    "            plt.ylabel('atomic fraction')\n",
    "            plt.grid(linestyle='--')\n",
    "            for depth in data['Samples'][sample]: #plot data\n",
    "                plt.plot(data['Samples'][sample][depth]['x'],data['Samples'][sample][depth]['C'], label = depth)\n",
    "                plt.legend()\n",
    "            i = i+1"
   ]
  },
  {
   "cell_type": "code",
   "execution_count": null,
   "metadata": {},
   "outputs": [],
   "source": [
    "def linfit(x,y):\n",
    "    x_min = 0\n",
    "    x_max = 2950\n",
    "    x_filter = [x_dat for x_dat in x if x_min <= x_dat <= x_max]\n",
    "    y_filter = y[x.index(x_filter[0]):x.index(x_filter[-1])+1]\n",
    "    coeff = np.polyfit(x_filter,y_filter,1)\n",
    "    polyf = np.poly1d(coeff)\n",
    "    x_fit = np.linspace(min(x_filter),max(x_filter),100)\n",
    "    y_fit = polyf(x_fit)  \n"
   ]
  },
  {
   "cell_type": "code",
   "execution_count": 51,
   "metadata": {},
   "outputs": [
    {
     "name": "stdout",
     "output_type": "stream",
     "text": [
      "Searching directory for potku files\n",
      "Found compatible files: \n",
      "1.20240205KrXe-in-ZrO2.potku\n",
      "2.20240205KrXe-in-ZrO2.potku - Copy\n",
      "3.AtKTHKrXeImp.potku\n",
      "4.CheckThatIGotIt.potku\n",
      "5.Test.potku\n"
     ]
    },
    {
     "data": {
      "text/plain": [
       "[<matplotlib.lines.Line2D at 0x180f0bcc590>]"
      ]
     },
     "execution_count": 51,
     "metadata": {},
     "output_type": "execute_result"
    },
    {
     "data": {
      "image/png": "[encoded data removed]",
      "text/plain": [
       "<Figure size 640x480 with 1 Axes>"
      ]
     },
     "metadata": {},
     "output_type": "display_data"
    }
   ],
   "source": [
    "data = Initialize_Profile(folder_path)\n",
    "x = data['Samples']['Cu']['Cu']['x']\n",
    "y = data['Samples']['Cu']['Cu']['C']\n",
    "# print(data['Samples']['Cu']['Cu']['x'])\n",
    "# print(data['Samples']['Cu']['Cu']['C'])\n",
    "plt.plot(x,y, label = 'Cu')\n",
    " \n",
    "\n",
    "x_min = 0\n",
    "x_max = 2950\n",
    "\n",
    "x_filter = [x_dat for x_dat in x if x_min <= x_dat <= x_max]\n",
    "y_filter = y[x.index(x_filter[0]):x.index(x_filter[-1])+1]\n",
    "\n",
    "\n",
    "coeff = np.polyfit(x_filter,y_filter,1)\n",
    "polyf = np.poly1d(coeff)\n",
    "\n",
    "x_fit = np.linspace(min(x_filter),max(x_filter),100)\n",
    "y_fit = polyf(x_fit)  \n",
    "\n",
    "\n",
    "plt.plot(x_fit,y_fit)"
   ]
  }
 ],
 "metadata": {
  "kernelspec": {
   "display_name": ".venv",
   "language": "python",
   "name": "python3"
  },
  "language_info": {
   "codemirror_mode": {
    "name": "ipython",
    "version": 3
   },
   "file_extension": ".py",
   "mimetype": "text/x-python",
   "name": "python",
   "nbconvert_exporter": "python",
   "pygments_lexer": "ipython3",
   "version": "3.12.1"
  }
 },
 "nbformat": 4,
 "nbformat_minor": 2
}
